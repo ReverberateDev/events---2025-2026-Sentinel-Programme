{
 "cells": [
  {
   "cell_type": "code",
   "execution_count": 3,
   "id": "290b6f5d",
   "metadata": {},
   "outputs": [
    {
     "name": "stdout",
     "output_type": "stream",
     "text": [
      "The student's grade is: 65\n"
     ]
    }
   ],
   "source": [
    "students_dict = {\"Mark\": 80, \"David\": 90, \"Laura\": 65, \"Johanna\": 100}\n",
    "x = input(\"Enter a student's name: \")\n",
    "grade = students_dict.get(x.capitalize(), None)\n",
    "if grade is not None:\n",
    "    print(f\"The student's grade is: {grade}\")\n",
    "else:\n",
    "    print(\"Error: student not found.\")"
   ]
  },
  {
   "cell_type": "code",
   "execution_count": 4,
   "id": "96fb5414",
   "metadata": {},
   "outputs": [
    {
     "name": "stdout",
     "output_type": "stream",
     "text": [
      "{'one': 1, 'two': 2, 'three': 3, 'four': 4, 'five': 5}\n"
     ]
    }
   ],
   "source": [
    "mp = {1: \"one\", 2: \"two\", 3: \"three\", 4: \"four\", 5: \"five\"}\n",
    "new_mp = {}\n",
    "for key, value in mp.items():\n",
    "    new_mp[value] = new_mp.get(value, []) + [key]\n",
    "for key, value in new_mp.items():\n",
    "    if len(value) == 1:\n",
    "        new_mp[key] = value[0]\n",
    "mp = new_mp\n",
    "print(mp)"
   ]
  },
  {
   "cell_type": "code",
   "execution_count": null,
   "id": "eb3334a2",
   "metadata": {},
   "outputs": [
    {
     "ename": "IndentationError",
     "evalue": "expected an indented block after function definition on line 3 (1090383892.py, line 5)",
     "output_type": "error",
     "traceback": [
      "  \u001b[36mCell\u001b[39m\u001b[36m \u001b[39m\u001b[32mIn[6]\u001b[39m\u001b[32m, line 5\u001b[39m\n\u001b[31m    \u001b[39m\u001b[31mdef remove_contact():\u001b[39m\n    ^\n\u001b[31mIndentationError\u001b[39m\u001b[31m:\u001b[39m expected an indented block after function definition on line 3\n"
     ]
    }
   ],
   "source": [
    "contacts = {}\n",
    "\n",
    "def add_contact():\n",
    "    contact_name = input(f\"Enter contact name: \")\n",
    "    phone_number = input(f\"Enter phone number: \")\n",
    "    email = input(f\"Enter email address: \")\n",
    "    address = input(f\"Enter address: \")\n",
    "    if contact_name in contacts.keys():\n",
    "        print(\"Contact already exists.\")\n",
    "    else:\n",
    "        contacts[contact_name] = {\n",
    "            \"phone_number\": phone_number,\n",
    "            \"email\": email,\n",
    "            \"address\": address\n",
    "        }\n",
    "        print(f\"Contact {contact_name} added.\")\n",
    "\n",
    "def remove_contact():\n",
    "    contact_name = input(\"Enter the name of the contact to remove: \")\n",
    "    if contact_name in contacts:\n",
    "        del contacts[contact_name]\n",
    "        print(f\"Contact {contact_name} removed.\")\n",
    "    else:\n",
    "        print(\"Contact not found.\")\n",
    "\n",
    "def update_contact():\n",
    "    contact_name = input(f\"Enter contact name: \")\n",
    "\n",
    "    if contact_name in contacts:\n",
    "        del contacts[contact_name]\n",
    "        print(f\"Contact {contact_name} removed.\")\n",
    "    else:\n",
    "        print(\"Contact not found.\")\n",
    "        return\n",
    "    \n",
    "    phone_number = input(f\"Enter new phone number: \")\n",
    "    email = input(f\"Enter new email address: \")\n",
    "    address = input(f\"Enter new address: \")\n",
    "\n",
    "    contacts[contact_name] = {\n",
    "        \"phone_number\": phone_number,\n",
    "        \"email\": email,\n",
    "        \"address\": address\n",
    "    }\n",
    "    \n",
    "    print(f\"Contact {contact_name} updated.\")\n",
    "\n",
    "def search_contact():\n",
    "    contact_name = input(\"Enter the name of the contact to search: \")\n",
    "    if contact_name in contacts:\n",
    "        print(f\"Details for '{contact_name}':\")\n",
    "        print(f\"Phone: {contacts[contact_name]['phone_number']}\")\n",
    "        print(f\"Email: {contacts[contact_name]['email']}\")\n",
    "        print(f\"Address: {contacts[contact_name]['address']}\")\n",
    "    else:\n",
    "        print(\"Contact not found.\")\n",
    "\n",
    "def display_contacts():\n",
    "    print(\"All contacts:\")\n",
    "    for contact in contacts:\n",
    "        print()\n",
    "        print(f\"Name: {contact}\")\n",
    "        print(f\"Phone: {contacts[contact]['phone_number']}\")\n",
    "        print(f\"Email: {contacts[contact]['email']}\")\n",
    "        print(f\"Address: {contacts[contact]['address']}\")\n",
    "\n",
    "def exit_program():\n",
    "    print(\"Exiting the program.\")\n",
    "    exit()"
   ]
  },
  {
   "cell_type": "code",
   "execution_count": null,
   "id": "e12724a7",
   "metadata": {},
   "outputs": [],
   "source": [
    "accounts = {\n",
    "    \"12345678\": {\"pin\": \"1234\", \"balance\": 100},\n",
    "    \"87654321\": {\"pin\": \"4321\", \"balance\": 200}\n",
    "}\n",
    "\n",
    "credit_card_number = input(\"Enter your credit card number (8 digits): \")\n",
    "pin = input(\"Enter your PIN (4 digits): \")\n",
    "\n",
    "if credit_card_number in accounts and accounts[credit_card_number][\"pin\"] == pin:\n",
    "    while True:\n",
    "        print(\"\\n1. Deposit money\")\n",
    "        print(\"2. Withdraw money\")\n",
    "        print(\"3. Check balance\")\n",
    "        print(\"4. Exit\")\n",
    "        \n",
    "        option = input(\"Choose an option: \")\n",
    "        \n",
    "        if option == \"1\":\n",
    "            amount = float(input(\"Enter amount to deposit: \"))\n",
    "            accounts[credit_card_number][\"balance\"] += amount\n",
    "            print(f\"${amount} deposited.\")\n",
    "        \n",
    "        elif option == \"2\":\n",
    "            amount = float(input(\"Enter amount to withdraw: \"))\n",
    "            if amount <= accounts[credit_card_number][\"balance\"]:\n",
    "                accounts[credit_card_number][\"balance\"] -= amount\n",
    "                print(f\"${amount} withdrawn.\")\n",
    "            else:\n",
    "                print(\"Invalid amount or insufficient funds.\")\n",
    "        \n",
    "        elif option == \"3\":\n",
    "            balance = accounts[credit_card_number][\"balance\"]\n",
    "            print(f\"Current balance: ${balance}\")\n",
    "        \n",
    "        elif option == \"4\":\n",
    "            print(\"Exiting program\")\n",
    "            break\n",
    "        \n",
    "        else:\n",
    "            print(\"Invalid option, please try again.\")\n",
    "else:\n",
    "    print(\"Invalid credit card number or PIN.\")\n"
   ]
  },
  {
   "cell_type": "code",
   "execution_count": null,
   "id": "f3eb5988",
   "metadata": {},
   "outputs": [],
   "source": []
  }
 ],
 "metadata": {
  "kernelspec": {
   "display_name": "Python 3",
   "language": "python",
   "name": "python3"
  },
  "language_info": {
   "codemirror_mode": {
    "name": "ipython",
    "version": 3
   },
   "file_extension": ".py",
   "mimetype": "text/x-python",
   "name": "python",
   "nbconvert_exporter": "python",
   "pygments_lexer": "ipython3",
   "version": "3.12.10"
  }
 },
 "nbformat": 4,
 "nbformat_minor": 5
}
