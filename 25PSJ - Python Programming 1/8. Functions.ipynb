{
 "cells": [
  {
   "cell_type": "code",
   "execution_count": null,
   "id": "283bba4d",
   "metadata": {},
   "outputs": [
    {
     "name": "stdout",
     "output_type": "stream",
     "text": [
      "Your name is simon\n"
     ]
    }
   ],
   "source": [
    "def function():\n",
    "    name = input(\"Please enter your name: \")\n",
    "    name = name.capitalize()\n",
    "    print(name)\n",
    "\n",
    "function()"
   ]
  },
  {
   "cell_type": "code",
   "execution_count": null,
   "id": "b9a3099f",
   "metadata": {},
   "outputs": [
    {
     "name": "stdout",
     "output_type": "stream",
     "text": [
      "Your name is simon. Hello simon!\n"
     ]
    }
   ],
   "source": [
    "def function(name):\n",
    "    name = name.capitalize()\n",
    "    print(name)\n",
    "\n",
    "function(\"simon\")"
   ]
  },
  {
   "cell_type": "code",
   "execution_count": null,
   "id": "6284c6fe",
   "metadata": {},
   "outputs": [
    {
     "name": "stdout",
     "output_type": "stream",
     "text": [
      "Your name is Simon. Hello Simon!\n",
      "Your name is Simon. Hello Simon!\n",
      "Your name is Simon. Hello Simon!\n"
     ]
    }
   ],
   "source": [
    "def function(name, mul):\n",
    "    name = name.capitalize()\n",
    "    for _ in range(mul):\n",
    "        print(name)\n",
    "\n",
    "function(\"simon\", 3)"
   ]
  },
  {
   "cell_type": "code",
   "execution_count": null,
   "id": "24e99ca3",
   "metadata": {},
   "outputs": [],
   "source": [
    "def calculate_average(numbers):\n",
    "    if not numbers:\n",
    "        return 0\n",
    "    return sum(numbers) / len(numbers)\n",
    "\n",
    "test_list = [10, 20, 30, 40, 50]\n",
    "average = calculate_average(test_list)\n",
    "print(f\"The average of {test_list} is {average}\")\n"
   ]
  },
  {
   "cell_type": "code",
   "execution_count": 4,
   "id": "ebc98b80",
   "metadata": {},
   "outputs": [],
   "source": [
    "def function():\n",
    "    color = input(\"What is your favorite color? \")\n",
    "    animal = input(\"What is your favorite animal? \")\n",
    "    food = input(\"What is your favorite food? \")\n",
    "    return (color, animal, food)"
   ]
  },
  {
   "cell_type": "code",
   "execution_count": null,
   "id": "6e9c5907",
   "metadata": {},
   "outputs": [
    {
     "name": "stdout",
     "output_type": "stream",
     "text": [
      "\n",
      "1. Create account\n",
      "2. Login\n",
      "3. Exit\n",
      "Invalid option.\n",
      "\n",
      "1. Create account\n",
      "2. Login\n",
      "3. Exit\n",
      "Invalid option.\n",
      "\n",
      "1. Create account\n",
      "2. Login\n",
      "3. Exit\n",
      "Invalid option.\n",
      "\n",
      "1. Create account\n",
      "2. Login\n",
      "3. Exit\n"
     ]
    }
   ],
   "source": [
    "import random\n",
    "\n",
    "accounts = {}\n",
    "\n",
    "def create_account():\n",
    "    card_number = str(random.randint(10000000, 99999999))\n",
    "    while card_number in accounts:\n",
    "        card_number = str(random.randint(10000000, 99999999))\n",
    "    pin = input(\"Set your 4-digit PIN: \")\n",
    "    while not (pin.isdigit() and len(pin) == 4):\n",
    "        pin = input(\"Invalid PIN. Set your 4-digit PIN: \")\n",
    "    accounts[card_number] = {\"pin\": pin, \"balance\": 0}\n",
    "    print(f\"Account created. Your card number is {card_number}\")\n",
    "\n",
    "def login():\n",
    "    card = input(\"Enter your 8-digit card number: \")\n",
    "    pin = input(\"Enter your 4-digit PIN: \")\n",
    "    if card in accounts and accounts[card][\"pin\"] == pin:\n",
    "        print(\"Login successful.\")\n",
    "        account_menu(card)\n",
    "    else:\n",
    "        print(\"Invalid card number or PIN.\")\n",
    "\n",
    "def deposit(card):\n",
    "    amount = input(\"Enter amount to deposit: \")\n",
    "    if amount.isdigit():\n",
    "        accounts[card][\"balance\"] += int(amount)\n",
    "        print(\"Deposit successful.\")\n",
    "    else:\n",
    "        print(\"Invalid amount.\")\n",
    "\n",
    "def withdraw(card):\n",
    "    amount = input(\"Enter amount to withdraw: \")\n",
    "    if amount.isdigit():\n",
    "        amount = int(amount)\n",
    "        if accounts[card][\"balance\"] >= amount:\n",
    "            accounts[card][\"balance\"] -= amount\n",
    "            print(\"Withdrawal successful.\")\n",
    "        else:\n",
    "            print(\"Insufficient funds.\")\n",
    "    else:\n",
    "        print(\"Invalid amount.\")\n",
    "\n",
    "def check_balance(card):\n",
    "    print(f\"Your balance is: {accounts[card]['balance']}\")\n",
    "\n",
    "def account_menu(card):\n",
    "    while True:\n",
    "        print(\"\\n1. Deposit money\")\n",
    "        print(\"2. Withdraw money\")\n",
    "        print(\"3. Check balance\")\n",
    "        print(\"4. Exit\")\n",
    "        choice = input(\"Choose an option: \")\n",
    "        if choice == \"1\":\n",
    "            deposit(card)\n",
    "        elif choice == \"2\":\n",
    "            withdraw(card)\n",
    "        elif choice == \"3\":\n",
    "            check_balance(card)\n",
    "        elif choice == \"4\":\n",
    "            break\n",
    "        else:\n",
    "            print(\"Invalid option.\")\n",
    "\n",
    "while True:\n",
    "    print(\"\\n1. Create account\")\n",
    "    print(\"2. Login\")\n",
    "    print(\"3. Exit\")\n",
    "    choice = input(\"Choose an option: \")\n",
    "    if choice == \"1\":\n",
    "        create_account()\n",
    "    elif choice == \"2\":\n",
    "        login()\n",
    "    elif choice == \"3\":\n",
    "        break\n",
    "    else:\n",
    "        print(\"Invalid option.\")\n",
    "\n"
   ]
  },
  {
   "cell_type": "code",
   "execution_count": null,
   "id": "6f2704db",
   "metadata": {},
   "outputs": [
    {
     "name": "stdout",
     "output_type": "stream",
     "text": [
      "Average Temperature: 26.67°C\n",
      "Day with the Highest Humidity: 2023-02-03 (90%)\n",
      "Total Precipitation: 0.7 inches\n"
     ]
    }
   ],
   "source": [
    "def analyze_weather(weather_data):\n",
    "    if not weather_data:\n",
    "        print(\"No data available.\")\n",
    "        return\n",
    "\n",
    "    total_temp = 0\n",
    "    total_precip = 0\n",
    "    highest_humidity = -1\n",
    "    highest_humidity_date = \"\"\n",
    "\n",
    "    for day in weather_data:\n",
    "        total_temp += day[\"temperature\"]\n",
    "        total_precip += day[\"precipitation\"]\n",
    "        if day[\"humidity\"] > highest_humidity:\n",
    "            highest_humidity = day[\"humidity\"]\n",
    "            highest_humidity_date = day[\"date\"]\n",
    "\n",
    "    avg_temp = total_temp / len(weather_data)\n",
    "\n",
    "    print(f\"Average Temperature: {avg_temp:.2f}°C\")\n",
    "    print(f\"Day with the Highest Humidity: {highest_humidity_date} ({highest_humidity}%)\")\n",
    "    print(f\"Total Precipitation: {total_precip:.1f} inches\")\n",
    "\n",
    "\n",
    "# Example usage\n",
    "weather_data = [\n",
    "    {\"date\": \"2023-02-01\", \"temperature\": 26, \"humidity\": 75, \"precipitation\": 0.2},\n",
    "    {\"date\": \"2023-02-02\", \"temperature\": 32, \"humidity\": 80, \"precipitation\": 0.0},\n",
    "    {\"date\": \"2023-02-03\", \"temperature\": 22, \"humidity\": 90, \"precipitation\": 0.5},\n",
    "    # More entries can be added here\n",
    "]\n",
    "\n",
    "analyze_weather(weather_data)\n"
   ]
  },
  {
   "cell_type": "code",
   "execution_count": null,
   "id": "153a3dfb",
   "metadata": {},
   "outputs": [],
   "source": []
  }
 ],
 "metadata": {
  "kernelspec": {
   "display_name": "Python 3",
   "language": "python",
   "name": "python3"
  },
  "language_info": {
   "codemirror_mode": {
    "name": "ipython",
    "version": 3
   },
   "file_extension": ".py",
   "mimetype": "text/x-python",
   "name": "python",
   "nbconvert_exporter": "python",
   "pygments_lexer": "ipython3",
   "version": "3.12.10"
  }
 },
 "nbformat": 4,
 "nbformat_minor": 5
}
