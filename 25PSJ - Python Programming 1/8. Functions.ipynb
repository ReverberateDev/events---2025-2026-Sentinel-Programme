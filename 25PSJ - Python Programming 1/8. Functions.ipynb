{
 "cells": [
  {
   "cell_type": "code",
   "execution_count": null,
   "id": "283bba4d",
   "metadata": {},
   "outputs": [
    {
     "name": "stdout",
     "output_type": "stream",
     "text": [
      "Your name is simon\n"
     ]
    }
   ],
   "source": [
    "def function():\n",
    "    name = input(\"Please enter your name: \")\n",
    "    name = name.capitalize()\n",
    "    print(name)\n",
    "\n",
    "function()"
   ]
  },
  {
   "cell_type": "code",
   "execution_count": null,
   "id": "b9a3099f",
   "metadata": {},
   "outputs": [
    {
     "name": "stdout",
     "output_type": "stream",
     "text": [
      "Your name is simon. Hello simon!\n"
     ]
    }
   ],
   "source": [
    "def function(name):\n",
    "    name = name.capitalize()\n",
    "    print(name)\n",
    "\n",
    "function(\"simon\")"
   ]
  },
  {
   "cell_type": "code",
   "execution_count": null,
   "id": "6284c6fe",
   "metadata": {},
   "outputs": [
    {
     "name": "stdout",
     "output_type": "stream",
     "text": [
      "Your name is Simon. Hello Simon!\n",
      "Your name is Simon. Hello Simon!\n",
      "Your name is Simon. Hello Simon!\n"
     ]
    }
   ],
   "source": [
    "def function(name, mul):\n",
    "    name = name.capitalize()\n",
    "    for _ in range(mul):\n",
    "        print(name)\n",
    "\n",
    "function(\"simon\", 3)"
   ]
  },
  {
   "cell_type": "code",
   "execution_count": null,
   "id": "24e99ca3",
   "metadata": {},
   "outputs": [],
   "source": [
    "def calculate_average(numbers):\n",
    "    if not numbers:\n",
    "        return 0\n",
    "    return sum(numbers) / len(numbers)\n",
    "\n",
    "test_list = [10, 20, 30, 40, 50]\n",
    "average = calculate_average(test_list)\n",
    "print(f\"The average of {test_list} is {average}\")\n"
   ]
  },
  {
   "cell_type": "code",
   "execution_count": 4,
   "id": "ebc98b80",
   "metadata": {},
   "outputs": [],
   "source": [
    "def function():\n",
    "    color = input(\"What is your favorite color? \")\n",
    "    animal = input(\"What is your favorite animal? \")\n",
    "    food = input(\"What is your favorite food? \")\n",
    "    return (color, animal, food)"
   ]
  },
  {
   "cell_type": "code",
   "execution_count": null,
   "id": "6e9c5907",
   "metadata": {},
   "outputs": [],
   "source": []
  }
 ],
 "metadata": {
  "kernelspec": {
   "display_name": "Python 3",
   "language": "python",
   "name": "python3"
  },
  "language_info": {
   "codemirror_mode": {
    "name": "ipython",
    "version": 3
   },
   "file_extension": ".py",
   "mimetype": "text/x-python",
   "name": "python",
   "nbconvert_exporter": "python",
   "pygments_lexer": "ipython3",
   "version": "3.12.10"
  }
 },
 "nbformat": 4,
 "nbformat_minor": 5
}
