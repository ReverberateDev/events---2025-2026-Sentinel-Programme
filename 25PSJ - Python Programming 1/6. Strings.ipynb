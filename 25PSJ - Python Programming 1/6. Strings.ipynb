{
 "cells": [
  {
   "cell_type": "code",
   "execution_count": 3,
   "id": "c7b56369",
   "metadata": {},
   "outputs": [
    {
     "name": "stdout",
     "output_type": "stream",
     "text": [
      "yhni wsm"
     ]
    }
   ],
   "source": [
    "x = input(\"Enter a string: \")\n",
    "for i in range(1, len(x), 2):\n",
    "    print(x[i], end=\"\")"
   ]
  },
  {
   "cell_type": "code",
   "execution_count": 9,
   "id": "d0324ae4",
   "metadata": {},
   "outputs": [
    {
     "name": "stdout",
     "output_type": "stream",
     "text": [
      "Number of times 'e' appeared: 2\n",
      " Hello 123 testing Python\n"
     ]
    }
   ],
   "source": [
    "x = input(\"Enter a string: \")\n",
    "\n",
    "if x.islower():\n",
    "    x = x.upper()\n",
    "elif x.isupper():\n",
    "    x = x.lower()\n",
    "\n",
    "e_appearance = 0\n",
    "\n",
    "for element in x:\n",
    "    if element.lower() == 'e':\n",
    "        e_appearance += 1\n",
    "\n",
    "x.replace(\"PYTHON\", \"PYTHON!\")\n",
    "x.replace(\"python\", \"python!\")\n",
    "\n",
    "if x.isnumeric():\n",
    "    x = int(x) * 5\n",
    "\n",
    "if e_appearance > 0:\n",
    "    print(f\"Number of times 'e' appeared: {e_appearance}\")\n",
    "print(x)"
   ]
  },
  {
   "cell_type": "code",
   "execution_count": null,
   "id": "97c9d00f",
   "metadata": {},
   "outputs": [],
   "source": [
    "x = input(\"Enter a string: \")\n",
    "word_count = len(x.split())\n",
    "print(f\"The number of words in the string is: {word_count}\")"
   ]
  },
  {
   "cell_type": "code",
   "execution_count": 10,
   "id": "75484ed5",
   "metadata": {},
   "outputs": [
    {
     "name": "stdout",
     "output_type": "stream",
     "text": [
      "MOM"
     ]
    }
   ],
   "source": [
    "x = input(\"Enter the phrase to generate an acronym: \")\n",
    "words = x.split()\n",
    "for word in words:\n",
    "    print(word[0].upper(), end=\"\")"
   ]
  },
  {
   "cell_type": "code",
   "execution_count": 12,
   "id": "9defba46",
   "metadata": {},
   "outputs": [
    {
     "name": "stdout",
     "output_type": "stream",
     "text": [
      "Is Palindrome: True\n"
     ]
    }
   ],
   "source": [
    "x = input(\"Input string: \")\n",
    "y = \"\"\n",
    "for char in x:\n",
    "    if char.isalpha():\n",
    "        y += char.lower()\n",
    "x = y\n",
    "if x == x[::-1]:\n",
    "    print(\"Is Palindrome: True\")\n",
    "else:\n",
    "    print(\"Is Palindrome: False\")"
   ]
  },
  {
   "cell_type": "code",
   "execution_count": 14,
   "id": "54aa57f7",
   "metadata": {},
   "outputs": [
    {
     "name": "stdout",
     "output_type": "stream",
     "text": [
      "These are the anagrams:  ['enlist', 'silent', 'tinsel']\n"
     ]
    }
   ],
   "source": [
    "x = input(\"Input your target word: \")\n",
    "word_list = input(\"Input your word list: \").split()\n",
    "anagrams = []\n",
    "for word in word_list:\n",
    "    if sorted(word) == sorted(x):\n",
    "        anagrams.append(word)\n",
    "print(\"These are the anagrams: \", anagrams)"
   ]
  },
  {
   "cell_type": "code",
   "execution_count": null,
   "id": "552a8c2f",
   "metadata": {},
   "outputs": [],
   "source": []
  }
 ],
 "metadata": {
  "kernelspec": {
   "display_name": "Python 3",
   "language": "python",
   "name": "python3"
  },
  "language_info": {
   "codemirror_mode": {
    "name": "ipython",
    "version": 3
   },
   "file_extension": ".py",
   "mimetype": "text/x-python",
   "name": "python",
   "nbconvert_exporter": "python",
   "pygments_lexer": "ipython3",
   "version": "3.12.10"
  }
 },
 "nbformat": 4,
 "nbformat_minor": 5
}
