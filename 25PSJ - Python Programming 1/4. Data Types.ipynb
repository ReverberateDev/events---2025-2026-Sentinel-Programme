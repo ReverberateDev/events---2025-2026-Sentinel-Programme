{
 "cells": [
  {
   "cell_type": "markdown",
   "id": "99063882",
   "metadata": {},
   "source": [
    "3. List Operations"
   ]
  },
  {
   "cell_type": "code",
   "execution_count": 2,
   "id": "daa4a019",
   "metadata": {},
   "outputs": [
    {
     "name": "stdout",
     "output_type": "stream",
     "text": [
      "The biggest number is: 3\n",
      "The biggest number is positive.\n"
     ]
    }
   ],
   "source": [
    "lst = []\n",
    "lst.append(input(\"Enter number 1: \"))\n",
    "lst.append(input(\"Enter number 2: \"))\n",
    "lst.append(input(\"Enter number 3: \"))\n",
    "lst = [int(i) for i in lst]  # Convert inputs to integers\n",
    "lst.sort()\n",
    "print(f\"The biggest number is: {lst[-1]}\")\n",
    "if lst[-1] == 0:\n",
    "    print(\"The biggest number is zero.\")\n",
    "elif lst[-1] < 0:\n",
    "    print(\"The biggest number is negative.\")\n",
    "else:\n",
    "    print(\"The biggest number is positive.\")"
   ]
  },
  {
   "cell_type": "code",
   "execution_count": null,
   "id": "633c1386",
   "metadata": {},
   "outputs": [],
   "source": [
    "4. Slices"
   ]
  },
  {
   "cell_type": "code",
   "execution_count": 4,
   "id": "80a61f50",
   "metadata": {},
   "outputs": [
    {
     "name": "stdout",
     "output_type": "stream",
     "text": [
      "john is not invited to the party, sorry\n",
      "['Max', 'Marta', 'Mose', 'john', 'Mona', 'Margarita', 'Mike']\n"
     ]
    }
   ],
   "source": [
    "invites_list = [\"Max\", \"Marta\", \"Mose\", \"Mona\", \"Margarita\", \"Mike\"]\n",
    "\n",
    "name = input(\"Please enter a name: \")\n",
    "\n",
    "if name in invites_list:\n",
    "    print(f\"{name} is invited to the party!\")\n",
    "else:\n",
    "    print(f\"{name} is not invited to the party, sorry\")\n",
    "    index = int(input(f\"Please enter the index where you would like to insert {name}: \"))\n",
    "    if index >= len(invites_list):\n",
    "        print(f\"Index given is out of range\")\n",
    "    else:\n",
    "        invites_list.insert(index, name)\n",
    "        print(invites_list)"
   ]
  },
  {
   "cell_type": "markdown",
   "id": "d4a1c08e",
   "metadata": {},
   "source": [
    "5. Tuples and Sets"
   ]
  },
  {
   "cell_type": "markdown",
   "id": "0d01adb0",
   "metadata": {},
   "source": [
    "| => the union of s1 and s2\n",
    "& => the intersection of s1 and s2\n",
    "- => the set of elements in s1 but not s2\n",
    "^ => the set of elements in precisely one of s1 or s2"
   ]
  },
  {
   "cell_type": "markdown",
   "id": "24b61570",
   "metadata": {},
   "source": [
    "6. The Treasure Map"
   ]
  },
  {
   "cell_type": "code",
   "execution_count": null,
   "id": "769e48da",
   "metadata": {},
   "outputs": [
    {
     "name": "stdout",
     "output_type": "stream",
     "text": [
      "['the hidden cave', ['the cave painting', 'the echo in the darkness', 'the silver key']]\n",
      "Clue 1: a clue in a bottle\n",
      "Clue 2: behind the water\n",
      "Clue 3: the hidden cave\n",
      "Clue 4: the silver key\n",
      "Clue 5: the leap of faith\n",
      "Clue 6: the final piece of the map\n"
     ]
    }
   ],
   "source": [
    "treasure_map = [\n",
    "    (\"Start\", [\"a clue in a bottle\", \"the old compass\"]),\n",
    "    [\n",
    "        (\"the waterfall\", [\"behind the water\", \"under the stone\"]),\n",
    "        [\n",
    "            \"the ancient tree\",\n",
    "            (\n",
    "                \"the carved mark\",\n",
    "                [\n",
    "                    \"the hidden cave\",\n",
    "                    [\"the cave painting\", \"the echo in the darkness\", \"the silver key\"]\n",
    "                ],\n",
    "                \"the guardian owl\"\n",
    "            ),\n",
    "            \"the forgotten path\"\n",
    "        ],\n",
    "        (\"the mountain peak\", [\"the eagle's nest\", \"the leap of faith\"])\n",
    "    ],\n",
    "    [\n",
    "        \"the mysterious door\",\n",
    "        (\n",
    "            \"the riddle of the sphinx\",\n",
    "            [\n",
    "                \"the chamber of secrets\",\n",
    "                [\"the golden chalice\", \"the final piece of the map\"]\n",
    "            ]\n",
    "        )\n",
    "    ]\n",
    "]\n",
    "\n",
    "# Start of the Journey: The journey begins at the \"Start\" location.\n",
    "start = treasure_map[0][1]\n",
    "\n",
    "# Replace the \"replace mes\" with the location of actual clues from the map\n",
    "# (like the \"start\" example).\n",
    "\n",
    "# Extract \"a clue in a bottle\" from the start of the map.\n",
    "clue1 = treasure_map[0][1][0]\n",
    "\n",
    "# Discover the Waterfall's Secret: Navigate through the structure to find \"behind the water\".\n",
    "clue2 = treasure_map[1][0][1][0]\n",
    "\n",
    "# Unveil the Hidden Cave: Delve deeper to locate \"the hidden cave\" and then extract \"the silver key\" from within.\n",
    "hidden_cave_info = treasure_map[1][1][1][1]\n",
    "\n",
    "clue3 = hidden_cave_info[0]\n",
    "clue4 = hidden_cave_info[1][2]\n",
    "\n",
    "# Ascend to the Mountain Peak: Identify the \"the leap of faith\" clue.\n",
    "clue5 = treasure_map[1][2][1][1]\n",
    "\n",
    "# Solve the Sphinx's Riddle: In the final stretch, extract \"the final piece of the map\".\n",
    "clue6 = treasure_map[2][1][1][1][1]\n",
    "\n",
    "print(f\"Clue 1: {clue1}\")\n",
    "print(f\"Clue 2: {clue2}\")\n",
    "print(f\"Clue 3: {clue3}\")\n",
    "print(f\"Clue 4: {clue4}\")\n",
    "print(f\"Clue 5: {clue5}\")\n",
    "print(f\"Clue 6: {clue6}\")"
   ]
  },
  {
   "cell_type": "markdown",
   "id": "66b6d3d8",
   "metadata": {},
   "source": [
    "7. Guidos Potion"
   ]
  },
  {
   "cell_type": "code",
   "execution_count": 13,
   "id": "542058b6",
   "metadata": {},
   "outputs": [
    {
     "name": "stdout",
     "output_type": "stream",
     "text": [
      "All primary ingredients are available.\n",
      "Available ingredients after removing forbidden ones: {'unicorn tears', 'phoenix feather', 'mermaid scales', 'dragon heartstring'}\n",
      "Final potion mix: {'phoenix feather', 'sunstone', 'dragon heartstring', 'unicorn tears', 'star dust', 'mermaid scales', 'moonstone'}\n"
     ]
    }
   ],
   "source": [
    "primary_ingredients = {\"unicorn tears\", \"phoenix feather\", \"mermaid scales\", \"dragon heartstring\"}\n",
    "enhancing_ingredients = {\"moonstone\", \"sunstone\", \"star dust\"}\n",
    "forbidden_ingredients = {\"troll whiskers\", \"goblin earwax\"}\n",
    "\n",
    "available_ingredients = {\"unicorn tears\", \"phoenix feather\", \"mermaid scales\", \"dragon heartstring\", \"moonstone\",\n",
    "                         \"troll whiskers\"}\n",
    "\n",
    "# Verify primary ingredients\n",
    "if primary_ingredients <= available_ingredients:  # hint: You can use if statement with issubset()\n",
    "    print(\"All primary ingredients are available.\")\n",
    "else:\n",
    "    print(\"Missing primary ingredients.\")\n",
    "\n",
    "# Remove forbidden ingredients\n",
    "cleaned_ingredients = primary_ingredients - forbidden_ingredients  # hint: You can use set operation \"subtraction\"\n",
    "print(f\"Available ingredients after removing forbidden ones: {cleaned_ingredients}\")\n",
    "\n",
    "# Add enhancing ingredient\n",
    "final_mix = primary_ingredients | enhancing_ingredients  # hint: You can use set operation \"union\" and \"and\"\n",
    "print(f\"Final potion mix: {final_mix}\")\n"
   ]
  },
  {
   "cell_type": "markdown",
   "id": "de582113",
   "metadata": {},
   "source": [
    "8. Bermudas Triangle"
   ]
  },
  {
   "cell_type": "code",
   "execution_count": 16,
   "id": "c1b6910d",
   "metadata": {},
   "outputs": [
    {
     "name": "stdout",
     "output_type": "stream",
     "text": [
      "The area of the triangle is: 3.0\n"
     ]
    }
   ],
   "source": [
    "point1 = (1, 2)\n",
    "point2 = (4, 5)\n",
    "point3 = (6, 9)\n",
    "x1, y1 = point1\n",
    "x2, y2 = point2\n",
    "x3, y3 = point3\n",
    "Area = 1/2 * abs(x1 * (y2 - y3) + x2 * (y3 - y1) + x3 * (y1 - y2))\n",
    "print(f\"The area of the triangle is: {Area:.1f}\")"
   ]
  }
 ],
 "metadata": {
  "kernelspec": {
   "display_name": "Python 3",
   "language": "python",
   "name": "python3"
  },
  "language_info": {
   "codemirror_mode": {
    "name": "ipython",
    "version": 3
   },
   "file_extension": ".py",
   "mimetype": "text/x-python",
   "name": "python",
   "nbconvert_exporter": "python",
   "pygments_lexer": "ipython3",
   "version": "3.12.10"
  }
 },
 "nbformat": 4,
 "nbformat_minor": 5
}
